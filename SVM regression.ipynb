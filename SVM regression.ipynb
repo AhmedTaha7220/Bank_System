{
 "cells": [
  {
   "cell_type": "code",
   "execution_count": 16,
   "id": "750c9dde",
   "metadata": {},
   "outputs": [
    {
     "name": "stdout",
     "output_type": "stream",
     "text": [
      "     Age  Gender Education Level                      Job Title  \\\n",
      "0     32    Male      Bachelor's              Software Engineer   \n",
      "1     28  Female        Master's                   Data Analyst   \n",
      "2     45    Male             PhD                 Senior Manager   \n",
      "3     36  Female      Bachelor's                Sales Associate   \n",
      "4     52    Male        Master's                       Director   \n",
      "..   ...     ...             ...                            ...   \n",
      "368   35  Female      Bachelor's       Senior Marketing Analyst   \n",
      "369   43    Male        Master's         Director of Operations   \n",
      "370   29  Female      Bachelor's         Junior Project Manager   \n",
      "371   34    Male      Bachelor's  Senior Operations Coordinator   \n",
      "372   44  Female             PhD        Senior Business Analyst   \n",
      "\n",
      "     Years of Experience  Salary  \n",
      "0                    5.0   90000  \n",
      "1                    3.0   65000  \n",
      "2                   15.0  150000  \n",
      "3                    7.0   60000  \n",
      "4                   20.0  200000  \n",
      "..                   ...     ...  \n",
      "368                  8.0   85000  \n",
      "369                 19.0  170000  \n",
      "370                  2.0   40000  \n",
      "371                  7.0   90000  \n",
      "372                 15.0  150000  \n",
      "\n",
      "[373 rows x 6 columns]\n"
     ]
    }
   ],
   "source": [
    "#First reading the data\n",
    "import numpy as np\n",
    "import pandas as pd\n",
    "data=pd.read_csv('Salary Data.csv')\n",
    "x=data.iloc[:,:-1].values\n",
    "y=data.iloc[:,-1].values\n",
    "print(data)\n"
   ]
  },
  {
   "cell_type": "code",
   "execution_count": 17,
   "id": "04c797c2",
   "metadata": {},
   "outputs": [
    {
     "name": "stdout",
     "output_type": "stream",
     "text": [
      "174\n"
     ]
    }
   ],
   "source": [
    "#Second preprocessing on data: (Cleaning, Encoding, Normalizing, and feature engineering, and balancing 'in classification case')\n",
    "# 1. Cleaning data 'handling the null values inside data' \n",
    "a=data['Salary'].unique()\n",
    "b=data['Job Title'].nunique()\n",
    "print(b)\n",
    "#After checking the unique values inside each colum we found non 'Null' values to handle"
   ]
  },
  {
   "cell_type": "code",
   "execution_count": 18,
   "id": "8e25b713",
   "metadata": {},
   "outputs": [
    {
     "name": "stdout",
     "output_type": "stream",
     "text": [
      "[[1.0 0.0 0.0 ... 1 159 5.0]\n",
      " [0.0 1.0 0.0 ... 0 17 3.0]\n",
      " [0.0 0.0 1.0 ... 1 130 15.0]\n",
      " ...\n",
      " [1.0 0.0 0.0 ... 0 70 2.0]\n",
      " [1.0 0.0 0.0 ... 1 137 7.0]\n",
      " [0.0 0.0 1.0 ... 0 110 15.0]]\n"
     ]
    }
   ],
   "source": [
    "# 2. Encoding\n",
    "from sklearn.preprocessing import LabelEncoder, OneHotEncoder\n",
    "#Frist applying 'label encoder' for binary encoding\n",
    "x[:,1]=LabelEncoder().fit_transform(x[:,1])\n",
    "x[:,3]=LabelEncoder().fit_transform(x[:,3])\n",
    "#Second applying 'OneHotencoder' for multi categorical classification\n",
    "from sklearn.compose import ColumnTransformer\n",
    "hotencoder=ColumnTransformer([('encoder',OneHotEncoder(),[2])],remainder=\"passthrough\")\n",
    "x=np.array(hotencoder.fit_transform(x))\n",
    "\n",
    "print(x)"
   ]
  },
  {
   "cell_type": "code",
   "execution_count": 19,
   "id": "1cd1fdbe",
   "metadata": {},
   "outputs": [],
   "source": [
    "# 3. Normalizing\n",
    "from sklearn.preprocessing import StandardScaler\n",
    "ss=StandardScaler()\n",
    "x[:,0]=np.ravel(ss.fit_transform(x[:,0].reshape(-1,1)))\n",
    "x[:,4]=np.ravel(ss.fit_transform(x[:,4].reshape(-1,1)))\n",
    "y=np.ravel(ss.fit_transform(y.reshape(-1,1)))\n",
    "# 4. Balancing \"we won't need it because we use 'regression' here\"\n",
    "# 5. Feature scalling for linear SVM\n"
   ]
  },
  {
   "cell_type": "code",
   "execution_count": null,
   "id": "e0f8259a",
   "metadata": {},
   "outputs": [],
   "source": []
  },
  {
   "cell_type": "code",
   "execution_count": 32,
   "id": "ee710b5f",
   "metadata": {},
   "outputs": [
    {
     "data": {
      "text/plain": [
       "SVR(kernel='linear')"
      ]
     },
     "execution_count": 32,
     "metadata": {},
     "output_type": "execute_result"
    }
   ],
   "source": [
    "#Start in applying model\n",
    "#Split your data\n",
    "from sklearn.model_selection import train_test_split\n",
    "x_train,x_test,y_train,y_test=train_test_split(x,y,train_size=0.20,random_state=0)\n",
    "#Start SVM regression model\n",
    "#'SVR' it means support vector regression\n",
    "from sklearn.svm import SVR\n",
    "#'rbf' is the function used for kernel trick used for splitting the data\n",
    "regressor = SVR(kernel = 'linear')\n",
    "regressor.fit(x_train,y_train)\n"
   ]
  },
  {
   "cell_type": "code",
   "execution_count": 35,
   "id": "db5758d4",
   "metadata": {},
   "outputs": [
    {
     "name": "stdout",
     "output_type": "stream",
     "text": [
      "accuracy is: 0.9004386988944044\n"
     ]
    }
   ],
   "source": [
    "\n",
    "from sklearn.metrics import r2_score\n",
    "#testing on a prediction\n",
    "# Make predictions on the testing data\n",
    "y_pred = regressor.predict(x_test)\n",
    "\n",
    "# Evaluate the model using mean squared error\n",
    "acc = r2_score(y_test, y_pred)\n",
    "print('accuracy is:', acc)\n",
    "\n",
    "#print(accuracy_score(y_test, y_pred))"
   ]
  },
  {
   "cell_type": "code",
   "execution_count": null,
   "id": "1b53ac34",
   "metadata": {},
   "outputs": [],
   "source": []
  }
 ],
 "metadata": {
  "kernelspec": {
   "display_name": "Python 3 (ipykernel)",
   "language": "python",
   "name": "python3"
  },
  "language_info": {
   "codemirror_mode": {
    "name": "ipython",
    "version": 3
   },
   "file_extension": ".py",
   "mimetype": "text/x-python",
   "name": "python",
   "nbconvert_exporter": "python",
   "pygments_lexer": "ipython3",
   "version": "3.9.13"
  }
 },
 "nbformat": 4,
 "nbformat_minor": 5
}
